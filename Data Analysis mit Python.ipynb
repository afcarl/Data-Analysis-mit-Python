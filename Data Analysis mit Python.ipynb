{
 "cells": [
  {
   "cell_type": "markdown",
   "metadata": {},
   "source": [
    "# Data Analysis mit Python\n",
    "\n",
    "---\n",
    "\n",
    "Willkommen beim Seminar Data Analysis mit Python. Dieses so genannte Notebook wird euch durch die Installation von Python führen und euch die Grundlagen beibringen, die ihr im Seminar brauchen werdet. Es wird von euch erwartet, dieses Notebook durchzuarbeiten. Wir werden dieses Notebook am Anfang des Seminars zusammen durchgehen und die Lösungen durchgehen. Solltet ihr Probleme bei den Aufgaben haben, dann fragt bitte zunächst Google nach der Fehlermeldung. Python ist sehr gut dokumentiert und ich garantiere euch, dass die Lösung im Internet steht. Solltet ihr trotzdem noch Probleme haben, dann könnt ihr mir auch gerne eine Email schreiben. Ihr könnt mich unter gehrmann (at) seas.harvard.edu erreichen. \n",
    "\n",
    "Meine Erfahung zeigt, dass die Teilnehmer des Seminars unterschiedliche über das Ziel des Seminars herausgehende Wünsche haben. Der Großteil des Seminars wird an individuellen Projekten gearbeitet, ich kann also auf diese Wünsche eingehen. Solltet ihr spezielle Wunschthemen haben, dann teilt sie mir bitte mit, dass ich mich darauf vorbereiten kann. Einige Beispiele der Vergangenheit sind:\n",
    "\n",
    "* Logistische Regression (Vorhersagen)\n",
    "* Geo-Daten auf Karten visualisieren\n",
    "* Automatisches Auslesen und Auswerten von Server-Daten\n",
    "\n",
    "\n",
    "\n",
    "## Programmierkenntnisse\n",
    "\n",
    "Im Seminar werden wir Python verwenden. Es wird von euch vorausgesetzt, dass ihr die Grundlagen vom Programmieren versteht. Insbesondere werden folgende Kenntnisse vorausgesetzt (Keine Angst, wenn ihr nicht alles 100% versteht, der Fokus des Seminars liegt allerdings nicht auf dem Vermitteln von Programmiergrundlagen):\n",
    "\n",
    "* Wie kann man Python Syntax mithilfe von Google und StackOverflow nachgucken?\n",
    "* Grundlegende Konzepte wie Funktionen, Schleifen, Arrays, Dictionaries, Strings und If-Statements\n",
    "* Wie kann man mit der Dokumentation von Bibliotheken umgehen?\n",
    "\n",
    "Wer mehr über das wissenschaftliche Programmieren mit Python wissen will, kann hier nachschlagen (optional):  [Lecture 1-4 sind hilfreich](https://github.com/jrjohansson/scientific-python-lectures) \n",
    "\n",
    "## Python Installieren\n",
    "\n",
    "Es spart sehr viel Zeit, wenn man nicht Python jedes mal neu auf den NAK-Rechnern installieren muss. Deshalb bitte ich euch, nach Möglichkeit einen eigenen Laptop zu benutzen. \n",
    "\n",
    "Wir werden eine beliebte Python Distribution namens Anaconda verwenden, die viele Bibliotheken für das wissenschaftliche Programmieren enthält. Bitte ladet sie [hier](http://continuum.io/downloads) herunter. \n",
    "[Hier](https://github.com/cs109/content/wiki/Installing-Python) findet ihr weitere Informationen, sollte die Installation nicht direkt funktionieren (ignoriert die \"Additional Libraries\" Sektion). Die Seite enthält auch Informationen, wie man Notebooks (wie dieses hier) lokal zum laufen bringt.\n",
    "\n",
    "<hline>\n",
    "\n",
    "## Hello, Python\n",
    "\n",
    "Das Jupyter Notebook ist eine Applikation, um die interaktiven Notebooks zu bauen. Wir werden sie während des Seminars verwenden, um zu programmieren. Wenn ihr der vorhergegangenen Sektion gefolgt seid, dann solltet ihr in der Lage sein, dieses Notebook herunterzuladen und auszuführen. \n",
    "Öffnet it mit iPython, indem ihr in der Konsole (oder terminal) das folgende eingebt:\n",
    "\n",
    "```\n",
    "ipython notebook <name_of_downloaded_file>\n",
    "```\n",
    "\n",
    "Für den Rest dieser Aufgabe, benutzt bitte diese lokale Kopie. Notebooks bestehen aus vielen einzelnen \"Zellen\", die entweder Text (wie diese Zelle) oder Code enthalten. Mit einem Doppelklick kann man eine Zelle ändern und man kann sie ausführen, indem man entweder Cell->Run klickt oder mit Shift+Enter.\n",
    "\n",
    "Testet das mit der Zelle unterhalb dieser:"
   ]
  },
  {
   "cell_type": "code",
   "execution_count": 5,
   "metadata": {
    "collapsed": false
   },
   "outputs": [],
   "source": [
    "x = [10, 20, 30, 40, 50]\n",
    "for item in x:\n",
    "    print \"Item is \", item"
   ]
  },
  {
   "cell_type": "markdown",
   "metadata": {},
   "source": [
    "## Python Libraries\n",
    "\n",
    "Wir werden verschiedene Bibliotheken in diesem Seminar benutzen. Bitte testet, dass die folgende Zelle ausgeführt werden kann."
   ]
  },
  {
   "cell_type": "code",
   "execution_count": null,
   "metadata": {
    "collapsed": false
   },
   "outputs": [],
   "source": [
    "#IPython is what you are using now to run the notebook\n",
    "import IPython\n",
    "print \"IPython version:      %6.6s (need at least 1.0)\" % IPython.__version__\n",
    "\n",
    "# Numpy is a library for working with Arrays\n",
    "import numpy as np\n",
    "print \"Numpy version:        %6.6s (need at least 1.7.1)\" % np.__version__\n",
    "\n",
    "# SciPy implements many different numerical algorithms\n",
    "import scipy as sp\n",
    "print \"SciPy version:        %6.6s (need at least 0.12.0)\" % sp.__version__\n",
    "\n",
    "# Pandas makes working with data tables easier\n",
    "import pandas as pd\n",
    "print \"Pandas version:       %6.6s (need at least 0.11.0)\" % pd.__version__\n",
    "\n",
    "# Module for plotting\n",
    "import matplotlib\n",
    "print \"Mapltolib version:    %6.6s (need at least 1.2.1)\" % matplotlib.__version__\n",
    "\n",
    "# SciKit Learn implements several Machine Learning algorithms\n",
    "import sklearn\n",
    "print \"Scikit-Learn version: %6.6s (need at least 0.13.1)\" % sklearn.__version__\n",
    "\n",
    "# Requests is a library for getting data from the Web\n",
    "import requests\n",
    "print \"requests version:     %6.6s (need at least 1.2.3)\" % requests.__version__\n",
    "\n",
    "# Networkx is a library for working with networks\n",
    "import networkx as nx\n",
    "print \"NetworkX version:     %6.6s (need at least 1.7)\" % nx.__version__"
   ]
  },
  {
   "cell_type": "markdown",
   "metadata": {},
   "source": [
    "Bitte installiert zusätzlich noch die Bibliothek Seaborn, indem ihr in eurer Konsole das folgende eingebt: \n",
    "\n",
    "```\n",
    "pip install seaborn\n",
    "```\n",
    "\n",
    "Ihr solltet nun in der Lage sein, die nächste Zelle auszuführen (wenn nicht, dann versucht, das Notebook neuzustarten)"
   ]
  },
  {
   "cell_type": "code",
   "execution_count": 9,
   "metadata": {
    "collapsed": true
   },
   "outputs": [],
   "source": [
    "import seaborn as sns"
   ]
  },
  {
   "cell_type": "markdown",
   "metadata": {},
   "source": [
    "## Hello matplotlib"
   ]
  },
  {
   "cell_type": "markdown",
   "metadata": {},
   "source": [
    "Die erste Bibliothek \"Matplotlib\" ist dafür da, Graphen zu zeichnen und Diagramme darzustellen."
   ]
  },
  {
   "cell_type": "code",
   "execution_count": 12,
   "metadata": {
    "collapsed": false
   },
   "outputs": [
    {
     "data": {
      "text/plain": [
       "<matplotlib.text.Text at 0x109377350>"
      ]
     },
     "execution_count": 12,
     "metadata": {},
     "output_type": "execute_result"
    },
    {
     "data": {
      "image/png": "[encoded data removed]",
      "text/plain": [
       "<matplotlib.figure.Figure at 0x1093b4d90>"
      ]
     },
     "metadata": {},
     "output_type": "display_data"
    }
   ],
   "source": [
    "#Diese Zeile macht, dass matplotlib direkt im Notebook dargestellt wird\n",
    "%matplotlib inline  \n",
    "\n",
    "# Hier importieren wir Matplotlib\n",
    "import matplotlib.pyplot as plt  \n",
    "\n",
    "x = np.linspace(0, 10, 30)  #array mit 30 Punkten zwischen 0 und 10\n",
    "y = np.sin(x)\n",
    "z = y + np.random.normal(size=30) * .2\n",
    "plt.plot(x, y, 'ro-', label='Sinuskurve')\n",
    "plt.plot(x, z, 'b-', label='Sinus mit Noise')\n",
    "plt.legend(loc = 'lower right')\n",
    "plt.xlabel(\"X Achse\")\n",
    "plt.ylabel(\"Y Achse\")           "
   ]
  },
  {
   "cell_type": "markdown",
   "metadata": {},
   "source": [
    "## Hello Numpy\n",
    "\n",
    "Numpy ist die Basis für das Umgehen mit Matrizen und Vektoren und bietet viele Komfortfunktionen, um das Rechnen einfacher zu machen. Die folgende Zelle zeigt ein paar Kommandos, die hier möglich sind. Für weitere Informationen, guckt bitte hier: [Numpy User's Guide](http://docs.scipy.org/doc/numpy-dev/user/index.html)"
   ]
  },
  {
   "cell_type": "code",
   "execution_count": null,
   "metadata": {
    "collapsed": false
   },
   "outputs": [],
   "source": [
    "print \"Make a 3 row x 4 column array of random numbers\"\n",
    "x = np.random.random((3, 4))\n",
    "print x\n",
    "print\n",
    "\n",
    "print \"Add 1 to every element\"\n",
    "x = x + 1\n",
    "print x\n",
    "print\n",
    "\n",
    "print \"Get the element at row 1, column 2\"\n",
    "print x[1, 2]\n",
    "print\n",
    "\n",
    "# The colon syntax is called \"slicing\" the array. \n",
    "print \"Get the first row\"\n",
    "print x[0, :]\n",
    "print\n",
    "\n",
    "print \"Get every 2nd column of the first row\"\n",
    "print x[0, ::2]\n",
    "print"
   ]
  },
  {
   "cell_type": "markdown",
   "metadata": {},
   "source": [
    "Gebt das Maximum, Minimum, und den Mean von dem Array aus. Ihr braucht dafür **keine** Schleife schreiben. \n",
    "In der Zelle, gebt einfach `x.m<TAB>` ein, um eingebaute Operationen für Statistiken zu finden."
   ]
  },
  {
   "cell_type": "code",
   "execution_count": 5,
   "metadata": {
    "collapsed": false
   },
   "outputs": [],
   "source": [
    "#your code here\n"
   ]
  },
  {
   "cell_type": "markdown",
   "metadata": {},
   "source": [
    "Ruft nocheinmal die `x.max` Funktion auf, aber benutzt dieses mal das `axis` keyword, um das Maximum für jede Zeile in x auszugeben."
   ]
  },
  {
   "cell_type": "code",
   "execution_count": 6,
   "metadata": {
    "collapsed": false
   },
   "outputs": [],
   "source": [
    "#your code here\n"
   ]
  },
  {
   "cell_type": "markdown",
   "metadata": {},
   "source": [
    "Hier ist Code, um schnell 500 \"faire\" Münzwürfe zu simulieren."
   ]
  },
  {
   "cell_type": "code",
   "execution_count": 7,
   "metadata": {
    "collapsed": false
   },
   "outputs": [],
   "source": [
    "x = np.random.binomial(500, .5)\n",
    "print \"number of heads:\", x"
   ]
  },
  {
   "cell_type": "markdown",
   "metadata": {},
   "source": [
    "Wiederholt diese Simulation 500 mal, und benutzt die [plt.hist() function](http://matplotlib.org/api/pyplot_api.html#matplotlib.pyplot.hist), um ein Histogram zu zeichnen, wie oft \"Kopf\" in jeder Simulation vorgekommen ist."
   ]
  },
  {
   "cell_type": "code",
   "execution_count": 8,
   "metadata": {
    "collapsed": false
   },
   "outputs": [],
   "source": [
    "#your code here\n"
   ]
  },
  {
   "cell_type": "markdown",
   "metadata": {},
   "source": [
    "# Finale Aufgabe\n",
    "\n",
    "Die folgende Aufgabe ist ein wenig komplizierter als die vorhergegangenen. Keine Angst wenn ihr Probleme bekommt, wir werden zusammen im Seminar über die Lösung gehen, solltet ihr es nicht schaffen. Die Aufgabe wurde aus der Einführung in [diesen Kurs](http://cs109.github.io/2015/) kopi"
   ]
  },
  {
   "cell_type": "markdown",
   "metadata": {},
   "source": [
    "## The Monty Hall Problem\n",
    "\n",
    "\n",
    "Here's a fun and perhaps surprising statistical riddle, and a good way to get some practice writing python functions\n",
    "\n",
    "In a gameshow, contestants try to guess which of 3 closed doors contain a cash prize (goats are behind the other two doors). Of course, the odds of choosing the correct door are 1 in 3. As a twist, the host of the show occasionally opens a door after a contestant makes his or her choice. This door is always one of the two the contestant did not pick, and is also always one of the goat doors (note that it is always possible to do this, since there are two goat doors). At this point, the contestant has the option of keeping his or her original choice, or swtiching to the other unopened door. The question is: is there any benefit to switching doors? The answer surprises many people who haven't heard the question before.\n",
    "\n",
    "We can answer the problem by running simulations in Python. We'll do it in several parts.\n",
    "\n",
    "First, write a function called `simulate_prizedoor`. This function will simulate the location of the prize in many games -- see the detailed specification below:"
   ]
  },
  {
   "cell_type": "code",
   "execution_count": 9,
   "metadata": {
    "collapsed": false
   },
   "outputs": [],
   "source": [
    "\"\"\"\n",
    "Function\n",
    "--------\n",
    "simulate_prizedoor\n",
    "\n",
    "Generate a random array of 0s, 1s, and 2s, representing\n",
    "hiding a prize between door 0, door 1, and door 2\n",
    "\n",
    "Parameters\n",
    "----------\n",
    "nsim : int\n",
    "    The number of simulations to run\n",
    "\n",
    "Returns\n",
    "-------\n",
    "sims : array\n",
    "    Random array of 0s, 1s, and 2s\n",
    "\n",
    "Example\n",
    "-------\n",
    ">>> print simulate_prizedoor(3)\n",
    "array([0, 0, 2])\n",
    "\"\"\"\n",
    "def simulate_prizedoor(nsim):\n",
    "    #compute here\n",
    "    return answer\n",
    "#your code here\n"
   ]
  },
  {
   "cell_type": "markdown",
   "metadata": {},
   "source": [
    "Next, write a function that simulates the contestant's guesses for `nsim` simulations. Call this function `simulate_guess`. The specs:"
   ]
  },
  {
   "cell_type": "code",
   "execution_count": 10,
   "metadata": {
    "collapsed": false
   },
   "outputs": [],
   "source": [
    "\"\"\"\n",
    "Function\n",
    "--------\n",
    "simulate_guess\n",
    "\n",
    "Return any strategy for guessing which door a prize is behind. This\n",
    "could be a random strategy, one that always guesses 2, whatever.\n",
    "\n",
    "Parameters\n",
    "----------\n",
    "nsim : int\n",
    "    The number of simulations to generate guesses for\n",
    "\n",
    "Returns\n",
    "-------\n",
    "guesses : array\n",
    "    An array of guesses. Each guess is a 0, 1, or 2\n",
    "\n",
    "Example\n",
    "-------\n",
    ">>> print simulate_guess(5)\n",
    "array([0, 0, 0, 0, 0])\n",
    "\"\"\"\n",
    "#your code here\n"
   ]
  },
  {
   "cell_type": "markdown",
   "metadata": {},
   "source": [
    "Next, write a function, `goat_door`, to simulate randomly revealing one of the goat doors that a contestant didn't pick."
   ]
  },
  {
   "cell_type": "code",
   "execution_count": 11,
   "metadata": {
    "collapsed": false
   },
   "outputs": [],
   "source": [
    "\"\"\"\n",
    "Function\n",
    "--------\n",
    "goat_door\n",
    "\n",
    "Simulate the opening of a \"goat door\" that doesn't contain the prize,\n",
    "and is different from the contestants guess\n",
    "\n",
    "Parameters\n",
    "----------\n",
    "prizedoors : array\n",
    "    The door that the prize is behind in each simulation\n",
    "guesses : array\n",
    "    THe door that the contestant guessed in each simulation\n",
    "\n",
    "Returns\n",
    "-------\n",
    "goats : array\n",
    "    The goat door that is opened for each simulation. Each item is 0, 1, or 2, and is different\n",
    "    from both prizedoors and guesses\n",
    "\n",
    "Examples\n",
    "--------\n",
    ">>> print goat_door(np.array([0, 1, 2]), np.array([1, 1, 1]))\n",
    ">>> array([2, 2, 0])\n",
    "\"\"\"\n",
    "#your code here\n"
   ]
  },
  {
   "cell_type": "markdown",
   "metadata": {},
   "source": [
    "Write a function, `switch_guess`, that represents the strategy of always switching a guess after the goat door is opened."
   ]
  },
  {
   "cell_type": "code",
   "execution_count": 12,
   "metadata": {
    "collapsed": false
   },
   "outputs": [],
   "source": [
    "\"\"\"\n",
    "Function\n",
    "--------\n",
    "switch_guess\n",
    "\n",
    "The strategy that always switches a guess after the goat door is opened\n",
    "\n",
    "Parameters\n",
    "----------\n",
    "guesses : array\n",
    "     Array of original guesses, for each simulation\n",
    "goatdoors : array\n",
    "     Array of revealed goat doors for each simulation\n",
    "\n",
    "Returns\n",
    "-------\n",
    "The new door after switching. Should be different from both guesses and goatdoors\n",
    "\n",
    "Examples\n",
    "--------\n",
    ">>> print switch_guess(np.array([0, 1, 2]), np.array([1, 2, 1]))\n",
    ">>> array([2, 0, 0])\n",
    "\"\"\"\n",
    "#your code here\n"
   ]
  },
  {
   "cell_type": "markdown",
   "metadata": {},
   "source": [
    "Last function: write a `win_percentage` function that takes an array of `guesses` and `prizedoors`, and returns the percent of correct guesses"
   ]
  },
  {
   "cell_type": "code",
   "execution_count": 13,
   "metadata": {
    "collapsed": false
   },
   "outputs": [],
   "source": [
    "\"\"\"\n",
    "Function\n",
    "--------\n",
    "win_percentage\n",
    "\n",
    "Calculate the percent of times that a simulation of guesses is correct\n",
    "\n",
    "Parameters\n",
    "-----------\n",
    "guesses : array\n",
    "    Guesses for each simulation\n",
    "prizedoors : array\n",
    "    Location of prize for each simulation\n",
    "\n",
    "Returns\n",
    "--------\n",
    "percentage : number between 0 and 100\n",
    "    The win percentage\n",
    "\n",
    "Examples\n",
    "---------\n",
    ">>> print win_percentage(np.array([0, 1, 2]), np.array([0, 0, 0]))\n",
    "33.333\n",
    "\"\"\"\n",
    "#your code here\n"
   ]
  },
  {
   "cell_type": "markdown",
   "metadata": {},
   "source": [
    "Now, put it together. Simulate 10000 games where contestant keeps his original guess, and 10000 games where the contestant switches his door after a  goat door is revealed. Compute the percentage of time the contestant wins under either strategy. Is one strategy better than the other?"
   ]
  },
  {
   "cell_type": "code",
   "execution_count": 14,
   "metadata": {
    "collapsed": false
   },
   "outputs": [],
   "source": [
    "#your code here\n"
   ]
  },
  {
   "cell_type": "markdown",
   "metadata": {},
   "source": [
    "Many people find this answer counter-intuitive (famously, PhD mathematicians have incorrectly claimed the result must be wrong. Clearly, none of them knew Python). \n",
    "\n",
    "One of the best ways to build intuition about why opening a Goat door affects the odds is to re-run the experiment with 100 doors and one prize. If the game show host opens 98 goat doors after you make your initial selection, would you want to keep your first pick or switch? Can you generalize your simulation code to handle the case of `n` doors?"
   ]
  }
 ],
 "metadata": {
  "kernelspec": {
   "display_name": "Python 2",
   "language": "python",
   "name": "python2"
  },
  "language_info": {
   "codemirror_mode": {
    "name": "ipython",
    "version": 2
   },
   "file_extension": ".py",
   "mimetype": "text/x-python",
   "name": "python",
   "nbconvert_exporter": "python",
   "pygments_lexer": "ipython2",
   "version": "2.7.10"
  }
 },
 "nbformat": 4,
 "nbformat_minor": 0
}
